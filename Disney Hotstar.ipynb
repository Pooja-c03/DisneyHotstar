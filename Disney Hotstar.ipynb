{
 "cells": [
  {
   "cell_type": "markdown",
   "id": "0cbbcf5f-8483-4b55-9e86-6c1ba2a9b53c",
   "metadata": {},
   "source": [
    "## Data Analysis"
   ]
  },
  {
   "cell_type": "code",
   "execution_count": 2,
   "id": "f27ded2e-26c3-4d3f-a211-581406fb7284",
   "metadata": {},
   "outputs": [],
   "source": [
    "import numpy as np\n",
    "import pandas as pd\n",
    "import matplotlib.pyplot as plt\n",
    "import seaborn as sns"
   ]
  },
  {
   "cell_type": "code",
   "execution_count": 3,
   "id": "dc1b2b7c-9cb2-47c5-a481-313177493438",
   "metadata": {},
   "outputs": [],
   "source": [
    "df = pd.read_csv(\"hotstar (1).csv\", lineterminator = \"\\n\")"
   ]
  },
  {
   "cell_type": "code",
   "execution_count": 4,
   "id": "65e5a63b-c552-442c-b91d-1c58bccd780b",
   "metadata": {},
   "outputs": [
    {
     "data": {
      "text/html": [
       "<div>\n",
       "<style scoped>\n",
       "    .dataframe tbody tr th:only-of-type {\n",
       "        vertical-align: middle;\n",
       "    }\n",
       "\n",
       "    .dataframe tbody tr th {\n",
       "        vertical-align: top;\n",
       "    }\n",
       "\n",
       "    .dataframe thead th {\n",
       "        text-align: right;\n",
       "    }\n",
       "</style>\n",
       "<table border=\"1\" class=\"dataframe\">\n",
       "  <thead>\n",
       "    <tr style=\"text-align: right;\">\n",
       "      <th></th>\n",
       "      <th>title</th>\n",
       "      <th>description</th>\n",
       "      <th>genre</th>\n",
       "      <th>year</th>\n",
       "      <th>running_time</th>\n",
       "      <th>type</th>\n",
       "    </tr>\n",
       "  </thead>\n",
       "  <tbody>\n",
       "    <tr>\n",
       "      <th>0</th>\n",
       "      <td>Sambha - Aajcha Chawa</td>\n",
       "      <td>A young man sets off on a mission to clean up ...</td>\n",
       "      <td>Action</td>\n",
       "      <td>2012</td>\n",
       "      <td>141.0</td>\n",
       "      <td>movie</td>\n",
       "    </tr>\n",
       "    <tr>\n",
       "      <th>1</th>\n",
       "      <td>Cars Toon: Mater And The Ghostlight</td>\n",
       "      <td>Mater is haunted by a mysterious blue light th...</td>\n",
       "      <td>Animation</td>\n",
       "      <td>2006</td>\n",
       "      <td>7.0</td>\n",
       "      <td>movie</td>\n",
       "    </tr>\n",
       "    <tr>\n",
       "      <th>2</th>\n",
       "      <td>Kanmani Rambo Khatija</td>\n",
       "      <td>Unlucky since birth, Rambo finds hope when he ...</td>\n",
       "      <td>Romance</td>\n",
       "      <td>2022</td>\n",
       "      <td>157.0</td>\n",
       "      <td>movie</td>\n",
       "    </tr>\n",
       "    <tr>\n",
       "      <th>3</th>\n",
       "      <td>Butterfly</td>\n",
       "      <td>While trying to rescue her sister's kids from ...</td>\n",
       "      <td>Thriller</td>\n",
       "      <td>2022</td>\n",
       "      <td>136.0</td>\n",
       "      <td>movie</td>\n",
       "    </tr>\n",
       "    <tr>\n",
       "      <th>4</th>\n",
       "      <td>Sister Act</td>\n",
       "      <td>Rene, a lounge singer, decides to stay at a Ch...</td>\n",
       "      <td>Comedy</td>\n",
       "      <td>1992</td>\n",
       "      <td>100.0</td>\n",
       "      <td>movie</td>\n",
       "    </tr>\n",
       "  </tbody>\n",
       "</table>\n",
       "</div>"
      ],
      "text/plain": [
       "                                 title  \\\n",
       "0                Sambha - Aajcha Chawa   \n",
       "1  Cars Toon: Mater And The Ghostlight   \n",
       "2                Kanmani Rambo Khatija   \n",
       "3                            Butterfly   \n",
       "4                           Sister Act   \n",
       "\n",
       "                                         description      genre  year  \\\n",
       "0  A young man sets off on a mission to clean up ...     Action  2012   \n",
       "1  Mater is haunted by a mysterious blue light th...  Animation  2006   \n",
       "2  Unlucky since birth, Rambo finds hope when he ...    Romance  2022   \n",
       "3  While trying to rescue her sister's kids from ...   Thriller  2022   \n",
       "4  Rene, a lounge singer, decides to stay at a Ch...     Comedy  1992   \n",
       "\n",
       "   running_time   type  \n",
       "0         141.0  movie  \n",
       "1           7.0  movie  \n",
       "2         157.0  movie  \n",
       "3         136.0  movie  \n",
       "4         100.0  movie  "
      ]
     },
     "execution_count": 4,
     "metadata": {},
     "output_type": "execute_result"
    }
   ],
   "source": [
    "df.head()"
   ]
  },
  {
   "cell_type": "code",
   "execution_count": 5,
   "id": "d44e6962-689c-43b0-8c02-72c0b8e64ec0",
   "metadata": {},
   "outputs": [
    {
     "name": "stdout",
     "output_type": "stream",
     "text": [
      "<class 'pandas.core.frame.DataFrame'>\n",
      "RangeIndex: 6873 entries, 0 to 6872\n",
      "Data columns (total 6 columns):\n",
      " #   Column        Non-Null Count  Dtype  \n",
      "---  ------        --------------  -----  \n",
      " 0   title         6873 non-null   object \n",
      " 1   description   6873 non-null   object \n",
      " 2   genre         6873 non-null   object \n",
      " 3   year          6873 non-null   int64  \n",
      " 4   running_time  4567 non-null   float64\n",
      " 5   type          6873 non-null   object \n",
      "dtypes: float64(1), int64(1), object(4)\n",
      "memory usage: 322.3+ KB\n"
     ]
    }
   ],
   "source": [
    "df.info()"
   ]
  },
  {
   "cell_type": "code",
   "execution_count": 6,
   "id": "75a86fce-e325-4162-bd33-9b9443329348",
   "metadata": {},
   "outputs": [
    {
     "data": {
      "text/plain": [
       "<bound method NDFrame.head of 0                 Action\n",
       "1              Animation\n",
       "2                Romance\n",
       "3               Thriller\n",
       "4                 Comedy\n",
       "              ...       \n",
       "6868               Crime\n",
       "6869               Sport\n",
       "6870             Reality\n",
       "6871    Animals & Nature\n",
       "6872              Family\n",
       "Name: genre, Length: 6873, dtype: object>"
      ]
     },
     "execution_count": 6,
     "metadata": {},
     "output_type": "execute_result"
    }
   ],
   "source": [
    "df[\"genre\"].head"
   ]
  },
  {
   "cell_type": "code",
   "execution_count": 7,
   "id": "c1ecce33-39df-48b5-8413-45a532e1c1b2",
   "metadata": {},
   "outputs": [
    {
     "data": {
      "text/plain": [
       "13"
      ]
     },
     "execution_count": 7,
     "metadata": {},
     "output_type": "execute_result"
    }
   ],
   "source": [
    "df.duplicated().sum()"
   ]
  },
  {
   "cell_type": "code",
   "execution_count": 8,
   "id": "6c56b7d1-34f0-406a-9f9a-d43e2c5562f5",
   "metadata": {},
   "outputs": [
    {
     "data": {
      "text/plain": [
       "0       False\n",
       "1       False\n",
       "2       False\n",
       "3       False\n",
       "4       False\n",
       "        ...  \n",
       "6868    False\n",
       "6869    False\n",
       "6870    False\n",
       "6871    False\n",
       "6872    False\n",
       "Length: 6873, dtype: bool"
      ]
     },
     "execution_count": 8,
     "metadata": {},
     "output_type": "execute_result"
    }
   ],
   "source": [
    "df.duplicated()"
   ]
  },
  {
   "cell_type": "code",
   "execution_count": 9,
   "id": "cc778846-b7a0-426b-af47-9a95f937d4dc",
   "metadata": {},
   "outputs": [
    {
     "data": {
      "text/html": [
       "<div>\n",
       "<style scoped>\n",
       "    .dataframe tbody tr th:only-of-type {\n",
       "        vertical-align: middle;\n",
       "    }\n",
       "\n",
       "    .dataframe tbody tr th {\n",
       "        vertical-align: top;\n",
       "    }\n",
       "\n",
       "    .dataframe thead th {\n",
       "        text-align: right;\n",
       "    }\n",
       "</style>\n",
       "<table border=\"1\" class=\"dataframe\">\n",
       "  <thead>\n",
       "    <tr style=\"text-align: right;\">\n",
       "      <th></th>\n",
       "      <th>title</th>\n",
       "      <th>description</th>\n",
       "      <th>genre</th>\n",
       "      <th>year</th>\n",
       "      <th>running_time</th>\n",
       "      <th>type</th>\n",
       "    </tr>\n",
       "  </thead>\n",
       "  <tbody>\n",
       "    <tr>\n",
       "      <th>2</th>\n",
       "      <td>Kanmani Rambo Khatija</td>\n",
       "      <td>Unlucky since birth, Rambo finds hope when he ...</td>\n",
       "      <td>Romance</td>\n",
       "      <td>2022</td>\n",
       "      <td>157.0</td>\n",
       "      <td>movie</td>\n",
       "    </tr>\n",
       "    <tr>\n",
       "      <th>13</th>\n",
       "      <td>Maari 2</td>\n",
       "      <td>Maari, a local don, in his new naughty-turned-...</td>\n",
       "      <td>Action</td>\n",
       "      <td>2018</td>\n",
       "      <td>140.0</td>\n",
       "      <td>movie</td>\n",
       "    </tr>\n",
       "    <tr>\n",
       "      <th>1506</th>\n",
       "      <td>RRR</td>\n",
       "      <td>Under the British Raj, two revolutionaries wit...</td>\n",
       "      <td>Action</td>\n",
       "      <td>2022</td>\n",
       "      <td>177.0</td>\n",
       "      <td>movie</td>\n",
       "    </tr>\n",
       "    <tr>\n",
       "      <th>1509</th>\n",
       "      <td>Rubaru Roshni</td>\n",
       "      <td>Based in India, traversing three decades, test...</td>\n",
       "      <td>Drama</td>\n",
       "      <td>2019</td>\n",
       "      <td>110.0</td>\n",
       "      <td>movie</td>\n",
       "    </tr>\n",
       "    <tr>\n",
       "      <th>1924</th>\n",
       "      <td>Mookuthi Amman</td>\n",
       "      <td>Small-time reporter Engels' life changes drast...</td>\n",
       "      <td>Drama</td>\n",
       "      <td>2020</td>\n",
       "      <td>134.0</td>\n",
       "      <td>movie</td>\n",
       "    </tr>\n",
       "    <tr>\n",
       "      <th>1936</th>\n",
       "      <td>RRR</td>\n",
       "      <td>Under the British Raj, two revolutionaries wit...</td>\n",
       "      <td>Action</td>\n",
       "      <td>2022</td>\n",
       "      <td>177.0</td>\n",
       "      <td>movie</td>\n",
       "    </tr>\n",
       "    <tr>\n",
       "      <th>2149</th>\n",
       "      <td>Vikrant Rona</td>\n",
       "      <td>When a series of mysterious events stirs pande...</td>\n",
       "      <td>Action</td>\n",
       "      <td>2022</td>\n",
       "      <td>145.0</td>\n",
       "      <td>movie</td>\n",
       "    </tr>\n",
       "    <tr>\n",
       "      <th>2874</th>\n",
       "      <td>Kanmani Rambo Khatija</td>\n",
       "      <td>Unlucky since birth, Rambo finds hope when he ...</td>\n",
       "      <td>Romance</td>\n",
       "      <td>2022</td>\n",
       "      <td>157.0</td>\n",
       "      <td>movie</td>\n",
       "    </tr>\n",
       "    <tr>\n",
       "      <th>2898</th>\n",
       "      <td>Kanmani Rambo Khatija</td>\n",
       "      <td>Unlucky since birth, Rambo finds hope when he ...</td>\n",
       "      <td>Romance</td>\n",
       "      <td>2022</td>\n",
       "      <td>157.0</td>\n",
       "      <td>movie</td>\n",
       "    </tr>\n",
       "    <tr>\n",
       "      <th>2971</th>\n",
       "      <td>RRR</td>\n",
       "      <td>Under the British Raj, two revolutionaries wit...</td>\n",
       "      <td>Action</td>\n",
       "      <td>2022</td>\n",
       "      <td>177.0</td>\n",
       "      <td>movie</td>\n",
       "    </tr>\n",
       "    <tr>\n",
       "      <th>3155</th>\n",
       "      <td>Maari 2</td>\n",
       "      <td>Maari, a local don, in his new naughty-turned-...</td>\n",
       "      <td>Action</td>\n",
       "      <td>2018</td>\n",
       "      <td>140.0</td>\n",
       "      <td>movie</td>\n",
       "    </tr>\n",
       "    <tr>\n",
       "      <th>3404</th>\n",
       "      <td>Vikrant Rona</td>\n",
       "      <td>When a series of mysterious events stirs pande...</td>\n",
       "      <td>Action</td>\n",
       "      <td>2022</td>\n",
       "      <td>145.0</td>\n",
       "      <td>movie</td>\n",
       "    </tr>\n",
       "    <tr>\n",
       "      <th>3422</th>\n",
       "      <td>Rubaru Roshni</td>\n",
       "      <td>Based in India, traversing three decades, test...</td>\n",
       "      <td>Drama</td>\n",
       "      <td>2019</td>\n",
       "      <td>110.0</td>\n",
       "      <td>movie</td>\n",
       "    </tr>\n",
       "    <tr>\n",
       "      <th>3970</th>\n",
       "      <td>Mookuthi Amman</td>\n",
       "      <td>Small-time reporter Engels' life changes drast...</td>\n",
       "      <td>Drama</td>\n",
       "      <td>2020</td>\n",
       "      <td>134.0</td>\n",
       "      <td>movie</td>\n",
       "    </tr>\n",
       "    <tr>\n",
       "      <th>4771</th>\n",
       "      <td>Loki</td>\n",
       "      <td>The mercurial villain Loki resumes his role as...</td>\n",
       "      <td>Superhero</td>\n",
       "      <td>2021</td>\n",
       "      <td>NaN</td>\n",
       "      <td>tv</td>\n",
       "    </tr>\n",
       "    <tr>\n",
       "      <th>4872</th>\n",
       "      <td>Loki</td>\n",
       "      <td>The mercurial villain Loki resumes his role as...</td>\n",
       "      <td>Superhero</td>\n",
       "      <td>2021</td>\n",
       "      <td>NaN</td>\n",
       "      <td>tv</td>\n",
       "    </tr>\n",
       "    <tr>\n",
       "      <th>5279</th>\n",
       "      <td>MasterChef Australia</td>\n",
       "      <td>Top Australian chefs judge passionate home coo...</td>\n",
       "      <td>Reality</td>\n",
       "      <td>2021</td>\n",
       "      <td>NaN</td>\n",
       "      <td>tv</td>\n",
       "    </tr>\n",
       "    <tr>\n",
       "      <th>5772</th>\n",
       "      <td>MasterChef Australia</td>\n",
       "      <td>Top Australian chefs judge passionate home coo...</td>\n",
       "      <td>Reality</td>\n",
       "      <td>2021</td>\n",
       "      <td>NaN</td>\n",
       "      <td>tv</td>\n",
       "    </tr>\n",
       "    <tr>\n",
       "      <th>5833</th>\n",
       "      <td>PBL Season 2 Build up 2017</td>\n",
       "      <td>Gear up for the PBL 2017 season which starts o...</td>\n",
       "      <td>Sport</td>\n",
       "      <td>2016</td>\n",
       "      <td>NaN</td>\n",
       "      <td>tv</td>\n",
       "    </tr>\n",
       "    <tr>\n",
       "      <th>6020</th>\n",
       "      <td>White Matter</td>\n",
       "      <td>Eyeing the Nobel Prize, eccentric scientist Dr...</td>\n",
       "      <td>Drama</td>\n",
       "      <td>2018</td>\n",
       "      <td>NaN</td>\n",
       "      <td>tv</td>\n",
       "    </tr>\n",
       "    <tr>\n",
       "      <th>6064</th>\n",
       "      <td>PBL Season 2 Build up 2017</td>\n",
       "      <td>Gear up for the PBL 2017 season which starts o...</td>\n",
       "      <td>Sport</td>\n",
       "      <td>2016</td>\n",
       "      <td>NaN</td>\n",
       "      <td>tv</td>\n",
       "    </tr>\n",
       "    <tr>\n",
       "      <th>6215</th>\n",
       "      <td>Go for Gold</td>\n",
       "      <td>Catch up on all the action from the biggest to...</td>\n",
       "      <td>Sport</td>\n",
       "      <td>2016</td>\n",
       "      <td>NaN</td>\n",
       "      <td>tv</td>\n",
       "    </tr>\n",
       "    <tr>\n",
       "      <th>6474</th>\n",
       "      <td>White Matter</td>\n",
       "      <td>Eyeing the Nobel Prize, eccentric scientist Dr...</td>\n",
       "      <td>Drama</td>\n",
       "      <td>2018</td>\n",
       "      <td>NaN</td>\n",
       "      <td>tv</td>\n",
       "    </tr>\n",
       "    <tr>\n",
       "      <th>6753</th>\n",
       "      <td>Go for Gold</td>\n",
       "      <td>Catch up on all the action from the biggest to...</td>\n",
       "      <td>Sport</td>\n",
       "      <td>2016</td>\n",
       "      <td>NaN</td>\n",
       "      <td>tv</td>\n",
       "    </tr>\n",
       "  </tbody>\n",
       "</table>\n",
       "</div>"
      ],
      "text/plain": [
       "                           title  \\\n",
       "2          Kanmani Rambo Khatija   \n",
       "13                       Maari 2   \n",
       "1506                         RRR   \n",
       "1509               Rubaru Roshni   \n",
       "1924              Mookuthi Amman   \n",
       "1936                         RRR   \n",
       "2149                Vikrant Rona   \n",
       "2874       Kanmani Rambo Khatija   \n",
       "2898       Kanmani Rambo Khatija   \n",
       "2971                         RRR   \n",
       "3155                     Maari 2   \n",
       "3404                Vikrant Rona   \n",
       "3422               Rubaru Roshni   \n",
       "3970              Mookuthi Amman   \n",
       "4771                        Loki   \n",
       "4872                        Loki   \n",
       "5279        MasterChef Australia   \n",
       "5772        MasterChef Australia   \n",
       "5833  PBL Season 2 Build up 2017   \n",
       "6020                White Matter   \n",
       "6064  PBL Season 2 Build up 2017   \n",
       "6215                 Go for Gold   \n",
       "6474                White Matter   \n",
       "6753                 Go for Gold   \n",
       "\n",
       "                                            description      genre  year  \\\n",
       "2     Unlucky since birth, Rambo finds hope when he ...    Romance  2022   \n",
       "13    Maari, a local don, in his new naughty-turned-...     Action  2018   \n",
       "1506  Under the British Raj, two revolutionaries wit...     Action  2022   \n",
       "1509  Based in India, traversing three decades, test...      Drama  2019   \n",
       "1924  Small-time reporter Engels' life changes drast...      Drama  2020   \n",
       "1936  Under the British Raj, two revolutionaries wit...     Action  2022   \n",
       "2149  When a series of mysterious events stirs pande...     Action  2022   \n",
       "2874  Unlucky since birth, Rambo finds hope when he ...    Romance  2022   \n",
       "2898  Unlucky since birth, Rambo finds hope when he ...    Romance  2022   \n",
       "2971  Under the British Raj, two revolutionaries wit...     Action  2022   \n",
       "3155  Maari, a local don, in his new naughty-turned-...     Action  2018   \n",
       "3404  When a series of mysterious events stirs pande...     Action  2022   \n",
       "3422  Based in India, traversing three decades, test...      Drama  2019   \n",
       "3970  Small-time reporter Engels' life changes drast...      Drama  2020   \n",
       "4771  The mercurial villain Loki resumes his role as...  Superhero  2021   \n",
       "4872  The mercurial villain Loki resumes his role as...  Superhero  2021   \n",
       "5279  Top Australian chefs judge passionate home coo...    Reality  2021   \n",
       "5772  Top Australian chefs judge passionate home coo...    Reality  2021   \n",
       "5833  Gear up for the PBL 2017 season which starts o...      Sport  2016   \n",
       "6020  Eyeing the Nobel Prize, eccentric scientist Dr...      Drama  2018   \n",
       "6064  Gear up for the PBL 2017 season which starts o...      Sport  2016   \n",
       "6215  Catch up on all the action from the biggest to...      Sport  2016   \n",
       "6474  Eyeing the Nobel Prize, eccentric scientist Dr...      Drama  2018   \n",
       "6753  Catch up on all the action from the biggest to...      Sport  2016   \n",
       "\n",
       "      running_time   type  \n",
       "2            157.0  movie  \n",
       "13           140.0  movie  \n",
       "1506         177.0  movie  \n",
       "1509         110.0  movie  \n",
       "1924         134.0  movie  \n",
       "1936         177.0  movie  \n",
       "2149         145.0  movie  \n",
       "2874         157.0  movie  \n",
       "2898         157.0  movie  \n",
       "2971         177.0  movie  \n",
       "3155         140.0  movie  \n",
       "3404         145.0  movie  \n",
       "3422         110.0  movie  \n",
       "3970         134.0  movie  \n",
       "4771           NaN     tv  \n",
       "4872           NaN     tv  \n",
       "5279           NaN     tv  \n",
       "5772           NaN     tv  \n",
       "5833           NaN     tv  \n",
       "6020           NaN     tv  \n",
       "6064           NaN     tv  \n",
       "6215           NaN     tv  \n",
       "6474           NaN     tv  \n",
       "6753           NaN     tv  "
      ]
     },
     "execution_count": 9,
     "metadata": {},
     "output_type": "execute_result"
    }
   ],
   "source": [
    "df[df.duplicated(keep=False)]"
   ]
  },
  {
   "cell_type": "code",
   "execution_count": 10,
   "id": "12b0795e-d0cd-4bc1-92a6-2c0e6a62e3c8",
   "metadata": {},
   "outputs": [
    {
     "data": {
      "text/html": [
       "<div>\n",
       "<style scoped>\n",
       "    .dataframe tbody tr th:only-of-type {\n",
       "        vertical-align: middle;\n",
       "    }\n",
       "\n",
       "    .dataframe tbody tr th {\n",
       "        vertical-align: top;\n",
       "    }\n",
       "\n",
       "    .dataframe thead th {\n",
       "        text-align: right;\n",
       "    }\n",
       "</style>\n",
       "<table border=\"1\" class=\"dataframe\">\n",
       "  <thead>\n",
       "    <tr style=\"text-align: right;\">\n",
       "      <th></th>\n",
       "      <th>title</th>\n",
       "      <th>description</th>\n",
       "      <th>genre</th>\n",
       "      <th>year</th>\n",
       "      <th>running_time</th>\n",
       "      <th>type</th>\n",
       "    </tr>\n",
       "  </thead>\n",
       "  <tbody>\n",
       "    <tr>\n",
       "      <th>0</th>\n",
       "      <td>Sambha - Aajcha Chawa</td>\n",
       "      <td>A young man sets off on a mission to clean up ...</td>\n",
       "      <td>Action</td>\n",
       "      <td>2012</td>\n",
       "      <td>141.0</td>\n",
       "      <td>movie</td>\n",
       "    </tr>\n",
       "    <tr>\n",
       "      <th>1</th>\n",
       "      <td>Cars Toon: Mater And The Ghostlight</td>\n",
       "      <td>Mater is haunted by a mysterious blue light th...</td>\n",
       "      <td>Animation</td>\n",
       "      <td>2006</td>\n",
       "      <td>7.0</td>\n",
       "      <td>movie</td>\n",
       "    </tr>\n",
       "    <tr>\n",
       "      <th>2</th>\n",
       "      <td>Kanmani Rambo Khatija</td>\n",
       "      <td>Unlucky since birth, Rambo finds hope when he ...</td>\n",
       "      <td>Romance</td>\n",
       "      <td>2022</td>\n",
       "      <td>157.0</td>\n",
       "      <td>movie</td>\n",
       "    </tr>\n",
       "    <tr>\n",
       "      <th>3</th>\n",
       "      <td>Butterfly</td>\n",
       "      <td>While trying to rescue her sister's kids from ...</td>\n",
       "      <td>Thriller</td>\n",
       "      <td>2022</td>\n",
       "      <td>136.0</td>\n",
       "      <td>movie</td>\n",
       "    </tr>\n",
       "    <tr>\n",
       "      <th>4</th>\n",
       "      <td>Sister Act</td>\n",
       "      <td>Rene, a lounge singer, decides to stay at a Ch...</td>\n",
       "      <td>Comedy</td>\n",
       "      <td>1992</td>\n",
       "      <td>100.0</td>\n",
       "      <td>movie</td>\n",
       "    </tr>\n",
       "    <tr>\n",
       "      <th>...</th>\n",
       "      <td>...</td>\n",
       "      <td>...</td>\n",
       "      <td>...</td>\n",
       "      <td>...</td>\n",
       "      <td>...</td>\n",
       "      <td>...</td>\n",
       "    </tr>\n",
       "    <tr>\n",
       "      <th>6868</th>\n",
       "      <td>Will Trent</td>\n",
       "      <td>SHOW ON BREAK- NEXT EPISODE ON 15TH FEB. Speci...</td>\n",
       "      <td>Crime</td>\n",
       "      <td>2023</td>\n",
       "      <td>NaN</td>\n",
       "      <td>tv</td>\n",
       "    </tr>\n",
       "    <tr>\n",
       "      <th>6869</th>\n",
       "      <td>KBD Juniors - Qualifiers</td>\n",
       "      <td>Match highlights of Kabaddi Junior</td>\n",
       "      <td>Sport</td>\n",
       "      <td>2019</td>\n",
       "      <td>NaN</td>\n",
       "      <td>tv</td>\n",
       "    </tr>\n",
       "    <tr>\n",
       "      <th>6870</th>\n",
       "      <td>Dil Hai Hindustani</td>\n",
       "      <td>Sway to the tunes of the best Hindi/Bollywood ...</td>\n",
       "      <td>Reality</td>\n",
       "      <td>2017</td>\n",
       "      <td>NaN</td>\n",
       "      <td>tv</td>\n",
       "    </tr>\n",
       "    <tr>\n",
       "      <th>6871</th>\n",
       "      <td>On The Brink</td>\n",
       "      <td>The series reveals the hidden splendours of In...</td>\n",
       "      <td>Animals &amp; Nature</td>\n",
       "      <td>2021</td>\n",
       "      <td>NaN</td>\n",
       "      <td>tv</td>\n",
       "    </tr>\n",
       "    <tr>\n",
       "      <th>6872</th>\n",
       "      <td>Mahanadhi</td>\n",
       "      <td>Tragedy befalls a happy middle-class family af...</td>\n",
       "      <td>Family</td>\n",
       "      <td>2023</td>\n",
       "      <td>NaN</td>\n",
       "      <td>tv</td>\n",
       "    </tr>\n",
       "  </tbody>\n",
       "</table>\n",
       "<p>6860 rows × 6 columns</p>\n",
       "</div>"
      ],
      "text/plain": [
       "                                    title  \\\n",
       "0                   Sambha - Aajcha Chawa   \n",
       "1     Cars Toon: Mater And The Ghostlight   \n",
       "2                   Kanmani Rambo Khatija   \n",
       "3                               Butterfly   \n",
       "4                              Sister Act   \n",
       "...                                   ...   \n",
       "6868                           Will Trent   \n",
       "6869             KBD Juniors - Qualifiers   \n",
       "6870                   Dil Hai Hindustani   \n",
       "6871                         On The Brink   \n",
       "6872                            Mahanadhi   \n",
       "\n",
       "                                            description             genre  \\\n",
       "0     A young man sets off on a mission to clean up ...            Action   \n",
       "1     Mater is haunted by a mysterious blue light th...         Animation   \n",
       "2     Unlucky since birth, Rambo finds hope when he ...           Romance   \n",
       "3     While trying to rescue her sister's kids from ...          Thriller   \n",
       "4     Rene, a lounge singer, decides to stay at a Ch...            Comedy   \n",
       "...                                                 ...               ...   \n",
       "6868  SHOW ON BREAK- NEXT EPISODE ON 15TH FEB. Speci...             Crime   \n",
       "6869                 Match highlights of Kabaddi Junior             Sport   \n",
       "6870  Sway to the tunes of the best Hindi/Bollywood ...           Reality   \n",
       "6871  The series reveals the hidden splendours of In...  Animals & Nature   \n",
       "6872  Tragedy befalls a happy middle-class family af...            Family   \n",
       "\n",
       "      year  running_time   type  \n",
       "0     2012         141.0  movie  \n",
       "1     2006           7.0  movie  \n",
       "2     2022         157.0  movie  \n",
       "3     2022         136.0  movie  \n",
       "4     1992         100.0  movie  \n",
       "...    ...           ...    ...  \n",
       "6868  2023           NaN     tv  \n",
       "6869  2019           NaN     tv  \n",
       "6870  2017           NaN     tv  \n",
       "6871  2021           NaN     tv  \n",
       "6872  2023           NaN     tv  \n",
       "\n",
       "[6860 rows x 6 columns]"
      ]
     },
     "execution_count": 10,
     "metadata": {},
     "output_type": "execute_result"
    }
   ],
   "source": [
    "df.drop_duplicates()"
   ]
  },
  {
   "cell_type": "code",
   "execution_count": 11,
   "id": "1b03eb3e-522a-4188-8673-14bc4356fc62",
   "metadata": {},
   "outputs": [],
   "source": [
    "no_dupe = df.drop_duplicates()"
   ]
  },
  {
   "cell_type": "code",
   "execution_count": 12,
   "id": "a82af5db-f014-47fb-8515-8896529df9d8",
   "metadata": {},
   "outputs": [
    {
     "data": {
      "text/html": [
       "<div>\n",
       "<style scoped>\n",
       "    .dataframe tbody tr th:only-of-type {\n",
       "        vertical-align: middle;\n",
       "    }\n",
       "\n",
       "    .dataframe tbody tr th {\n",
       "        vertical-align: top;\n",
       "    }\n",
       "\n",
       "    .dataframe thead th {\n",
       "        text-align: right;\n",
       "    }\n",
       "</style>\n",
       "<table border=\"1\" class=\"dataframe\">\n",
       "  <thead>\n",
       "    <tr style=\"text-align: right;\">\n",
       "      <th></th>\n",
       "      <th>title</th>\n",
       "      <th>description</th>\n",
       "      <th>genre</th>\n",
       "      <th>year</th>\n",
       "      <th>running_time</th>\n",
       "      <th>type</th>\n",
       "    </tr>\n",
       "  </thead>\n",
       "  <tbody>\n",
       "  </tbody>\n",
       "</table>\n",
       "</div>"
      ],
      "text/plain": [
       "Empty DataFrame\n",
       "Columns: [title, description, genre, year, running_time, type]\n",
       "Index: []"
      ]
     },
     "execution_count": 12,
     "metadata": {},
     "output_type": "execute_result"
    }
   ],
   "source": [
    "no_dupe[no_dupe.duplicated()]"
   ]
  },
  {
   "cell_type": "code",
   "execution_count": 13,
   "id": "1c8c56a9-3c73-4e75-8cb7-8803bb5bdc48",
   "metadata": {},
   "outputs": [
    {
     "data": {
      "text/plain": [
       "(6873, 6)"
      ]
     },
     "execution_count": 13,
     "metadata": {},
     "output_type": "execute_result"
    }
   ],
   "source": [
    "df.shape"
   ]
  },
  {
   "cell_type": "code",
   "execution_count": 14,
   "id": "8c559286-89b3-4aae-81e4-b402b9071a97",
   "metadata": {},
   "outputs": [
    {
     "data": {
      "text/html": [
       "<div>\n",
       "<style scoped>\n",
       "    .dataframe tbody tr th:only-of-type {\n",
       "        vertical-align: middle;\n",
       "    }\n",
       "\n",
       "    .dataframe tbody tr th {\n",
       "        vertical-align: top;\n",
       "    }\n",
       "\n",
       "    .dataframe thead th {\n",
       "        text-align: right;\n",
       "    }\n",
       "</style>\n",
       "<table border=\"1\" class=\"dataframe\">\n",
       "  <thead>\n",
       "    <tr style=\"text-align: right;\">\n",
       "      <th></th>\n",
       "      <th>year</th>\n",
       "      <th>running_time</th>\n",
       "    </tr>\n",
       "  </thead>\n",
       "  <tbody>\n",
       "    <tr>\n",
       "      <th>count</th>\n",
       "      <td>6873.000000</td>\n",
       "      <td>4567.000000</td>\n",
       "    </tr>\n",
       "    <tr>\n",
       "      <th>mean</th>\n",
       "      <td>2011.717300</td>\n",
       "      <td>98.733304</td>\n",
       "    </tr>\n",
       "    <tr>\n",
       "      <th>std</th>\n",
       "      <td>11.937237</td>\n",
       "      <td>49.408235</td>\n",
       "    </tr>\n",
       "    <tr>\n",
       "      <th>min</th>\n",
       "      <td>1928.000000</td>\n",
       "      <td>1.000000</td>\n",
       "    </tr>\n",
       "    <tr>\n",
       "      <th>25%</th>\n",
       "      <td>2009.000000</td>\n",
       "      <td>70.000000</td>\n",
       "    </tr>\n",
       "    <tr>\n",
       "      <th>50%</th>\n",
       "      <td>2016.000000</td>\n",
       "      <td>116.000000</td>\n",
       "    </tr>\n",
       "    <tr>\n",
       "      <th>75%</th>\n",
       "      <td>2019.000000</td>\n",
       "      <td>135.000000</td>\n",
       "    </tr>\n",
       "    <tr>\n",
       "      <th>max</th>\n",
       "      <td>2023.000000</td>\n",
       "      <td>229.000000</td>\n",
       "    </tr>\n",
       "  </tbody>\n",
       "</table>\n",
       "</div>"
      ],
      "text/plain": [
       "              year  running_time\n",
       "count  6873.000000   4567.000000\n",
       "mean   2011.717300     98.733304\n",
       "std      11.937237     49.408235\n",
       "min    1928.000000      1.000000\n",
       "25%    2009.000000     70.000000\n",
       "50%    2016.000000    116.000000\n",
       "75%    2019.000000    135.000000\n",
       "max    2023.000000    229.000000"
      ]
     },
     "execution_count": 14,
     "metadata": {},
     "output_type": "execute_result"
    }
   ],
   "source": [
    "df.describe()"
   ]
  },
  {
   "cell_type": "code",
   "execution_count": 15,
   "id": "3c5c29e2-799b-4a3a-833b-531daf362b9c",
   "metadata": {},
   "outputs": [],
   "source": [
    "df.dropna(inplace = True)"
   ]
  },
  {
   "cell_type": "code",
   "execution_count": 16,
   "id": "a3bbede1-91c8-4856-be30-560c7890e978",
   "metadata": {},
   "outputs": [
    {
     "data": {
      "text/html": [
       "<div>\n",
       "<style scoped>\n",
       "    .dataframe tbody tr th:only-of-type {\n",
       "        vertical-align: middle;\n",
       "    }\n",
       "\n",
       "    .dataframe tbody tr th {\n",
       "        vertical-align: top;\n",
       "    }\n",
       "\n",
       "    .dataframe thead th {\n",
       "        text-align: right;\n",
       "    }\n",
       "</style>\n",
       "<table border=\"1\" class=\"dataframe\">\n",
       "  <thead>\n",
       "    <tr style=\"text-align: right;\">\n",
       "      <th></th>\n",
       "      <th>title</th>\n",
       "      <th>description</th>\n",
       "      <th>genre</th>\n",
       "      <th>year</th>\n",
       "      <th>running_time</th>\n",
       "      <th>type</th>\n",
       "    </tr>\n",
       "  </thead>\n",
       "  <tbody>\n",
       "    <tr>\n",
       "      <th>0</th>\n",
       "      <td>Sambha - Aajcha Chawa</td>\n",
       "      <td>A young man sets off on a mission to clean up ...</td>\n",
       "      <td>Action</td>\n",
       "      <td>2012</td>\n",
       "      <td>141.0</td>\n",
       "      <td>movie</td>\n",
       "    </tr>\n",
       "    <tr>\n",
       "      <th>1</th>\n",
       "      <td>Cars Toon: Mater And The Ghostlight</td>\n",
       "      <td>Mater is haunted by a mysterious blue light th...</td>\n",
       "      <td>Animation</td>\n",
       "      <td>2006</td>\n",
       "      <td>7.0</td>\n",
       "      <td>movie</td>\n",
       "    </tr>\n",
       "    <tr>\n",
       "      <th>2</th>\n",
       "      <td>Kanmani Rambo Khatija</td>\n",
       "      <td>Unlucky since birth, Rambo finds hope when he ...</td>\n",
       "      <td>Romance</td>\n",
       "      <td>2022</td>\n",
       "      <td>157.0</td>\n",
       "      <td>movie</td>\n",
       "    </tr>\n",
       "    <tr>\n",
       "      <th>3</th>\n",
       "      <td>Butterfly</td>\n",
       "      <td>While trying to rescue her sister's kids from ...</td>\n",
       "      <td>Thriller</td>\n",
       "      <td>2022</td>\n",
       "      <td>136.0</td>\n",
       "      <td>movie</td>\n",
       "    </tr>\n",
       "    <tr>\n",
       "      <th>4</th>\n",
       "      <td>Sister Act</td>\n",
       "      <td>Rene, a lounge singer, decides to stay at a Ch...</td>\n",
       "      <td>Comedy</td>\n",
       "      <td>1992</td>\n",
       "      <td>100.0</td>\n",
       "      <td>movie</td>\n",
       "    </tr>\n",
       "    <tr>\n",
       "      <th>...</th>\n",
       "      <td>...</td>\n",
       "      <td>...</td>\n",
       "      <td>...</td>\n",
       "      <td>...</td>\n",
       "      <td>...</td>\n",
       "      <td>...</td>\n",
       "    </tr>\n",
       "    <tr>\n",
       "      <th>4562</th>\n",
       "      <td>Nomadland</td>\n",
       "      <td>Following the economic collapse of a town in r...</td>\n",
       "      <td>Drama</td>\n",
       "      <td>2021</td>\n",
       "      <td>107.0</td>\n",
       "      <td>movie</td>\n",
       "    </tr>\n",
       "    <tr>\n",
       "      <th>4563</th>\n",
       "      <td>Weekend Affair</td>\n",
       "      <td>Two strangers meet at a house party. Despite b...</td>\n",
       "      <td>Romance</td>\n",
       "      <td>2020</td>\n",
       "      <td>7.0</td>\n",
       "      <td>movie</td>\n",
       "    </tr>\n",
       "    <tr>\n",
       "      <th>4564</th>\n",
       "      <td>Muhammad Ali's Greatest Fight</td>\n",
       "      <td>A story about the politics surrounding the Vie...</td>\n",
       "      <td>Biopic</td>\n",
       "      <td>2013</td>\n",
       "      <td>93.0</td>\n",
       "      <td>movie</td>\n",
       "    </tr>\n",
       "    <tr>\n",
       "      <th>4565</th>\n",
       "      <td>Playing with Sharks</td>\n",
       "      <td>\"Playing with Sharks\" captures the life of Val...</td>\n",
       "      <td>Documentary</td>\n",
       "      <td>2021</td>\n",
       "      <td>90.0</td>\n",
       "      <td>movie</td>\n",
       "    </tr>\n",
       "    <tr>\n",
       "      <th>4566</th>\n",
       "      <td>Kunguma Poovum Konjum Puravum</td>\n",
       "      <td>Abandoned by her parents, Thulasi and her gran...</td>\n",
       "      <td>Drama</td>\n",
       "      <td>2009</td>\n",
       "      <td>139.0</td>\n",
       "      <td>movie</td>\n",
       "    </tr>\n",
       "  </tbody>\n",
       "</table>\n",
       "<p>4559 rows × 6 columns</p>\n",
       "</div>"
      ],
      "text/plain": [
       "                                    title  \\\n",
       "0                   Sambha - Aajcha Chawa   \n",
       "1     Cars Toon: Mater And The Ghostlight   \n",
       "2                   Kanmani Rambo Khatija   \n",
       "3                               Butterfly   \n",
       "4                              Sister Act   \n",
       "...                                   ...   \n",
       "4562                            Nomadland   \n",
       "4563                       Weekend Affair   \n",
       "4564        Muhammad Ali's Greatest Fight   \n",
       "4565                  Playing with Sharks   \n",
       "4566        Kunguma Poovum Konjum Puravum   \n",
       "\n",
       "                                            description        genre  year  \\\n",
       "0     A young man sets off on a mission to clean up ...       Action  2012   \n",
       "1     Mater is haunted by a mysterious blue light th...    Animation  2006   \n",
       "2     Unlucky since birth, Rambo finds hope when he ...      Romance  2022   \n",
       "3     While trying to rescue her sister's kids from ...     Thriller  2022   \n",
       "4     Rene, a lounge singer, decides to stay at a Ch...       Comedy  1992   \n",
       "...                                                 ...          ...   ...   \n",
       "4562  Following the economic collapse of a town in r...        Drama  2021   \n",
       "4563  Two strangers meet at a house party. Despite b...      Romance  2020   \n",
       "4564  A story about the politics surrounding the Vie...       Biopic  2013   \n",
       "4565  \"Playing with Sharks\" captures the life of Val...  Documentary  2021   \n",
       "4566  Abandoned by her parents, Thulasi and her gran...        Drama  2009   \n",
       "\n",
       "      running_time   type  \n",
       "0            141.0  movie  \n",
       "1              7.0  movie  \n",
       "2            157.0  movie  \n",
       "3            136.0  movie  \n",
       "4            100.0  movie  \n",
       "...            ...    ...  \n",
       "4562         107.0  movie  \n",
       "4563           7.0  movie  \n",
       "4564          93.0  movie  \n",
       "4565          90.0  movie  \n",
       "4566         139.0  movie  \n",
       "\n",
       "[4559 rows x 6 columns]"
      ]
     },
     "execution_count": 16,
     "metadata": {},
     "output_type": "execute_result"
    }
   ],
   "source": [
    "df.drop_duplicates()"
   ]
  },
  {
   "cell_type": "code",
   "execution_count": 17,
   "id": "9677ddac-f053-4ba0-bd57-2f2531458493",
   "metadata": {},
   "outputs": [
    {
     "data": {
      "text/html": [
       "<div>\n",
       "<style scoped>\n",
       "    .dataframe tbody tr th:only-of-type {\n",
       "        vertical-align: middle;\n",
       "    }\n",
       "\n",
       "    .dataframe tbody tr th {\n",
       "        vertical-align: top;\n",
       "    }\n",
       "\n",
       "    .dataframe thead th {\n",
       "        text-align: right;\n",
       "    }\n",
       "</style>\n",
       "<table border=\"1\" class=\"dataframe\">\n",
       "  <thead>\n",
       "    <tr style=\"text-align: right;\">\n",
       "      <th></th>\n",
       "      <th>title</th>\n",
       "      <th>description</th>\n",
       "      <th>genre</th>\n",
       "      <th>year</th>\n",
       "      <th>running_time</th>\n",
       "      <th>type</th>\n",
       "    </tr>\n",
       "  </thead>\n",
       "  <tbody>\n",
       "  </tbody>\n",
       "</table>\n",
       "</div>"
      ],
      "text/plain": [
       "Empty DataFrame\n",
       "Columns: [title, description, genre, year, running_time, type]\n",
       "Index: []"
      ]
     },
     "execution_count": 17,
     "metadata": {},
     "output_type": "execute_result"
    }
   ],
   "source": [
    "no_dupe[no_dupe.duplicated()]"
   ]
  },
  {
   "cell_type": "code",
   "execution_count": 66,
   "id": "ecffeae6-cc66-4bbc-8c33-6f1f529e7691",
   "metadata": {},
   "outputs": [
    {
     "data": {
      "text/plain": [
       "0"
      ]
     },
     "execution_count": 66,
     "metadata": {},
     "output_type": "execute_result"
    }
   ],
   "source": [
    "no_dupe.duplicated().sum()"
   ]
  },
  {
   "cell_type": "code",
   "execution_count": 68,
   "id": "d5bbff10-7142-4415-bb84-ea9a5f7d59d7",
   "metadata": {},
   "outputs": [
    {
     "data": {
      "text/plain": [
       "title           0\n",
       "description     0\n",
       "genre           0\n",
       "year            0\n",
       "running_time    0\n",
       "type            0\n",
       "dtype: int64"
      ]
     },
     "execution_count": 68,
     "metadata": {},
     "output_type": "execute_result"
    }
   ],
   "source": [
    "df.isna().sum()"
   ]
  },
  {
   "cell_type": "code",
   "execution_count": 18,
   "id": "3cc95857-f215-4329-9a1e-6c7e3d4cb4a1",
   "metadata": {},
   "outputs": [
    {
     "data": {
      "text/plain": [
       "(4567, 6)"
      ]
     },
     "execution_count": 18,
     "metadata": {},
     "output_type": "execute_result"
    }
   ],
   "source": [
    "df.shape"
   ]
  },
  {
   "cell_type": "code",
   "execution_count": 19,
   "id": "984518ed-3393-4e3d-a1e5-5db693363169",
   "metadata": {},
   "outputs": [
    {
     "data": {
      "text/plain": [
       "(6860, 6)"
      ]
     },
     "execution_count": 19,
     "metadata": {},
     "output_type": "execute_result"
    }
   ],
   "source": [
    "no_dupe.shape"
   ]
  },
  {
   "cell_type": "code",
   "execution_count": 20,
   "id": "84866e4d-782e-4b3d-a918-547648e13378",
   "metadata": {},
   "outputs": [
    {
     "data": {
      "text/plain": [
       "\"\\n> Our dataframe consists of 6873 rows and 6 columns.\\n> There are no NaNs or any duplicated values.\\n> Our new dataframe has 4559 rows and 6 columns.\\n> Description, running_time and type won't be any use for our analysis, so we'll drop it.\\n> There's not much noticeable outliers in the year column.\\n> Genre column may have white spaces after the commas seperated which must be handled and casted into category.\\n\""
      ]
     },
     "execution_count": 20,
     "metadata": {},
     "output_type": "execute_result"
    }
   ],
   "source": [
    "#Exploration Summery\n",
    "\n",
    "'''\n",
    "> Our dataframe consists of 6873 rows and 6 columns.\n",
    "> There are no NaNs or any duplicated values.\n",
    "> Our new dataframe has 4559 rows and 6 columns.\n",
    "> Description, running_time and type won't be any use for our analysis, so we'll drop it.\n",
    "> There's not much noticeable outliers in the year column.\n",
    "> Genre column may have white spaces after the commas seperated which must be handled and casted into category.\n",
    "'''"
   ]
  },
  {
   "cell_type": "markdown",
   "id": "88ff3a44-4245-4c52-bc07-58d1aec198c7",
   "metadata": {},
   "source": [
    "Dropping the columns"
   ]
  },
  {
   "cell_type": "code",
   "execution_count": 22,
   "id": "2a9c4cd3-c329-4690-884e-c285de75bde8",
   "metadata": {},
   "outputs": [],
   "source": [
    "cols = ['description','running_time','type']"
   ]
  },
  {
   "cell_type": "code",
   "execution_count": 23,
   "id": "8c9bcf66-2936-4a14-9c4f-c636c18a0291",
   "metadata": {},
   "outputs": [],
   "source": [
    "#no_dupe.drop(cols, axis = 1, inplace = True)\n",
    "#no_dupe.columns"
   ]
  },
  {
   "cell_type": "code",
   "execution_count": 24,
   "id": "9975199d-d590-4c3a-8c27-4e630f84c3de",
   "metadata": {},
   "outputs": [
    {
     "data": {
      "text/html": [
       "<div>\n",
       "<style scoped>\n",
       "    .dataframe tbody tr th:only-of-type {\n",
       "        vertical-align: middle;\n",
       "    }\n",
       "\n",
       "    .dataframe tbody tr th {\n",
       "        vertical-align: top;\n",
       "    }\n",
       "\n",
       "    .dataframe thead th {\n",
       "        text-align: right;\n",
       "    }\n",
       "</style>\n",
       "<table border=\"1\" class=\"dataframe\">\n",
       "  <thead>\n",
       "    <tr style=\"text-align: right;\">\n",
       "      <th></th>\n",
       "      <th>title</th>\n",
       "      <th>description</th>\n",
       "      <th>genre</th>\n",
       "      <th>year</th>\n",
       "      <th>running_time</th>\n",
       "      <th>type</th>\n",
       "    </tr>\n",
       "  </thead>\n",
       "  <tbody>\n",
       "    <tr>\n",
       "      <th>0</th>\n",
       "      <td>Sambha - Aajcha Chawa</td>\n",
       "      <td>A young man sets off on a mission to clean up ...</td>\n",
       "      <td>Action</td>\n",
       "      <td>2012</td>\n",
       "      <td>141.0</td>\n",
       "      <td>movie</td>\n",
       "    </tr>\n",
       "    <tr>\n",
       "      <th>1</th>\n",
       "      <td>Cars Toon: Mater And The Ghostlight</td>\n",
       "      <td>Mater is haunted by a mysterious blue light th...</td>\n",
       "      <td>Animation</td>\n",
       "      <td>2006</td>\n",
       "      <td>7.0</td>\n",
       "      <td>movie</td>\n",
       "    </tr>\n",
       "    <tr>\n",
       "      <th>2</th>\n",
       "      <td>Kanmani Rambo Khatija</td>\n",
       "      <td>Unlucky since birth, Rambo finds hope when he ...</td>\n",
       "      <td>Romance</td>\n",
       "      <td>2022</td>\n",
       "      <td>157.0</td>\n",
       "      <td>movie</td>\n",
       "    </tr>\n",
       "    <tr>\n",
       "      <th>3</th>\n",
       "      <td>Butterfly</td>\n",
       "      <td>While trying to rescue her sister's kids from ...</td>\n",
       "      <td>Thriller</td>\n",
       "      <td>2022</td>\n",
       "      <td>136.0</td>\n",
       "      <td>movie</td>\n",
       "    </tr>\n",
       "    <tr>\n",
       "      <th>4</th>\n",
       "      <td>Sister Act</td>\n",
       "      <td>Rene, a lounge singer, decides to stay at a Ch...</td>\n",
       "      <td>Comedy</td>\n",
       "      <td>1992</td>\n",
       "      <td>100.0</td>\n",
       "      <td>movie</td>\n",
       "    </tr>\n",
       "  </tbody>\n",
       "</table>\n",
       "</div>"
      ],
      "text/plain": [
       "                                 title  \\\n",
       "0                Sambha - Aajcha Chawa   \n",
       "1  Cars Toon: Mater And The Ghostlight   \n",
       "2                Kanmani Rambo Khatija   \n",
       "3                            Butterfly   \n",
       "4                           Sister Act   \n",
       "\n",
       "                                         description      genre  year  \\\n",
       "0  A young man sets off on a mission to clean up ...     Action  2012   \n",
       "1  Mater is haunted by a mysterious blue light th...  Animation  2006   \n",
       "2  Unlucky since birth, Rambo finds hope when he ...    Romance  2022   \n",
       "3  While trying to rescue her sister's kids from ...   Thriller  2022   \n",
       "4  Rene, a lounge singer, decides to stay at a Ch...     Comedy  1992   \n",
       "\n",
       "   running_time   type  \n",
       "0         141.0  movie  \n",
       "1           7.0  movie  \n",
       "2         157.0  movie  \n",
       "3         136.0  movie  \n",
       "4         100.0  movie  "
      ]
     },
     "execution_count": 24,
     "metadata": {},
     "output_type": "execute_result"
    }
   ],
   "source": [
    "df.head()"
   ]
  },
  {
   "cell_type": "code",
   "execution_count": 25,
   "id": "d6c5d4eb-1315-48f3-9225-d7384f0f4a8f",
   "metadata": {},
   "outputs": [
    {
     "data": {
      "text/html": [
       "<div>\n",
       "<style scoped>\n",
       "    .dataframe tbody tr th:only-of-type {\n",
       "        vertical-align: middle;\n",
       "    }\n",
       "\n",
       "    .dataframe tbody tr th {\n",
       "        vertical-align: top;\n",
       "    }\n",
       "\n",
       "    .dataframe thead th {\n",
       "        text-align: right;\n",
       "    }\n",
       "</style>\n",
       "<table border=\"1\" class=\"dataframe\">\n",
       "  <thead>\n",
       "    <tr style=\"text-align: right;\">\n",
       "      <th></th>\n",
       "      <th>title</th>\n",
       "      <th>description</th>\n",
       "      <th>genre</th>\n",
       "      <th>year</th>\n",
       "      <th>running_time</th>\n",
       "      <th>type</th>\n",
       "    </tr>\n",
       "  </thead>\n",
       "  <tbody>\n",
       "    <tr>\n",
       "      <th>0</th>\n",
       "      <td>Sambha - Aajcha Chawa</td>\n",
       "      <td>A young man sets off on a mission to clean up ...</td>\n",
       "      <td>Action</td>\n",
       "      <td>2012</td>\n",
       "      <td>141.0</td>\n",
       "      <td>movie</td>\n",
       "    </tr>\n",
       "    <tr>\n",
       "      <th>1</th>\n",
       "      <td>Cars Toon: Mater And The Ghostlight</td>\n",
       "      <td>Mater is haunted by a mysterious blue light th...</td>\n",
       "      <td>Animation</td>\n",
       "      <td>2006</td>\n",
       "      <td>7.0</td>\n",
       "      <td>movie</td>\n",
       "    </tr>\n",
       "    <tr>\n",
       "      <th>2</th>\n",
       "      <td>Kanmani Rambo Khatija</td>\n",
       "      <td>Unlucky since birth, Rambo finds hope when he ...</td>\n",
       "      <td>Romance</td>\n",
       "      <td>2022</td>\n",
       "      <td>157.0</td>\n",
       "      <td>movie</td>\n",
       "    </tr>\n",
       "    <tr>\n",
       "      <th>3</th>\n",
       "      <td>Butterfly</td>\n",
       "      <td>While trying to rescue her sister's kids from ...</td>\n",
       "      <td>Thriller</td>\n",
       "      <td>2022</td>\n",
       "      <td>136.0</td>\n",
       "      <td>movie</td>\n",
       "    </tr>\n",
       "    <tr>\n",
       "      <th>4</th>\n",
       "      <td>Sister Act</td>\n",
       "      <td>Rene, a lounge singer, decides to stay at a Ch...</td>\n",
       "      <td>Comedy</td>\n",
       "      <td>1992</td>\n",
       "      <td>100.0</td>\n",
       "      <td>movie</td>\n",
       "    </tr>\n",
       "  </tbody>\n",
       "</table>\n",
       "</div>"
      ],
      "text/plain": [
       "                                 title  \\\n",
       "0                Sambha - Aajcha Chawa   \n",
       "1  Cars Toon: Mater And The Ghostlight   \n",
       "2                Kanmani Rambo Khatija   \n",
       "3                            Butterfly   \n",
       "4                           Sister Act   \n",
       "\n",
       "                                         description      genre  year  \\\n",
       "0  A young man sets off on a mission to clean up ...     Action  2012   \n",
       "1  Mater is haunted by a mysterious blue light th...  Animation  2006   \n",
       "2  Unlucky since birth, Rambo finds hope when he ...    Romance  2022   \n",
       "3  While trying to rescue her sister's kids from ...   Thriller  2022   \n",
       "4  Rene, a lounge singer, decides to stay at a Ch...     Comedy  1992   \n",
       "\n",
       "   running_time   type  \n",
       "0         141.0  movie  \n",
       "1           7.0  movie  \n",
       "2         157.0  movie  \n",
       "3         136.0  movie  \n",
       "4         100.0  movie  "
      ]
     },
     "execution_count": 25,
     "metadata": {},
     "output_type": "execute_result"
    }
   ],
   "source": [
    "no_dupe.head()"
   ]
  },
  {
   "cell_type": "code",
   "execution_count": 50,
   "id": "b369f0ee-0993-471d-b907-2849b205e035",
   "metadata": {},
   "outputs": [
    {
     "data": {
      "text/plain": [
       "type\n",
       "movie    4567\n",
       "Name: count, dtype: int64"
      ]
     },
     "execution_count": 50,
     "metadata": {},
     "output_type": "execute_result"
    }
   ],
   "source": [
    "df['type'].value_counts()"
   ]
  },
  {
   "cell_type": "code",
   "execution_count": 70,
   "id": "4f4a9c05-11b8-4558-8ff8-9f3c06337436",
   "metadata": {},
   "outputs": [
    {
     "data": {
      "text/plain": [
       "genre\n",
       "Drama               1540\n",
       "Action               559\n",
       "Comedy               526\n",
       "Romance              494\n",
       "Thriller             308\n",
       "Animation            238\n",
       "Family               154\n",
       "Documentary          134\n",
       "Horror               102\n",
       "Crime                 56\n",
       "Animals & Nature      51\n",
       "Standup Comedy        49\n",
       "Kids                  45\n",
       "Adventure             45\n",
       "Superhero             44\n",
       "Biopic                38\n",
       "Science Fiction       38\n",
       "Historical            32\n",
       "Mystery               28\n",
       "Science               20\n",
       "Mythology             15\n",
       "Musical               15\n",
       "Teen                  11\n",
       "Concert Film           8\n",
       "Fantasy                7\n",
       "Shorts                 4\n",
       "Docudrama              2\n",
       "Talk Show              1\n",
       "Food                   1\n",
       "Travel                 1\n",
       "Sport                  1\n",
       "Name: count, dtype: int64"
      ]
     },
     "execution_count": 70,
     "metadata": {},
     "output_type": "execute_result"
    }
   ],
   "source": [
    "df['genre'].value_counts()"
   ]
  },
  {
   "cell_type": "code",
   "execution_count": 72,
   "id": "42ed1348-2404-47ef-8975-024bdd0f71b3",
   "metadata": {},
   "outputs": [
    {
     "data": {
      "text/html": [
       "<div>\n",
       "<style scoped>\n",
       "    .dataframe tbody tr th:only-of-type {\n",
       "        vertical-align: middle;\n",
       "    }\n",
       "\n",
       "    .dataframe tbody tr th {\n",
       "        vertical-align: top;\n",
       "    }\n",
       "\n",
       "    .dataframe thead th {\n",
       "        text-align: right;\n",
       "    }\n",
       "</style>\n",
       "<table border=\"1\" class=\"dataframe\">\n",
       "  <thead>\n",
       "    <tr style=\"text-align: right;\">\n",
       "      <th></th>\n",
       "      <th>title</th>\n",
       "      <th>description</th>\n",
       "      <th>genre</th>\n",
       "      <th>year</th>\n",
       "      <th>running_time</th>\n",
       "      <th>type</th>\n",
       "    </tr>\n",
       "  </thead>\n",
       "  <tbody>\n",
       "    <tr>\n",
       "      <th>0</th>\n",
       "      <td>Sambha - Aajcha Chawa</td>\n",
       "      <td>A young man sets off on a mission to clean up ...</td>\n",
       "      <td>Action</td>\n",
       "      <td>2012</td>\n",
       "      <td>141.0</td>\n",
       "      <td>movie</td>\n",
       "    </tr>\n",
       "    <tr>\n",
       "      <th>1</th>\n",
       "      <td>Cars Toon: Mater And The Ghostlight</td>\n",
       "      <td>Mater is haunted by a mysterious blue light th...</td>\n",
       "      <td>Animation</td>\n",
       "      <td>2006</td>\n",
       "      <td>7.0</td>\n",
       "      <td>movie</td>\n",
       "    </tr>\n",
       "    <tr>\n",
       "      <th>2</th>\n",
       "      <td>Kanmani Rambo Khatija</td>\n",
       "      <td>Unlucky since birth, Rambo finds hope when he ...</td>\n",
       "      <td>Romance</td>\n",
       "      <td>2022</td>\n",
       "      <td>157.0</td>\n",
       "      <td>movie</td>\n",
       "    </tr>\n",
       "    <tr>\n",
       "      <th>3</th>\n",
       "      <td>Butterfly</td>\n",
       "      <td>While trying to rescue her sister's kids from ...</td>\n",
       "      <td>Thriller</td>\n",
       "      <td>2022</td>\n",
       "      <td>136.0</td>\n",
       "      <td>movie</td>\n",
       "    </tr>\n",
       "    <tr>\n",
       "      <th>4</th>\n",
       "      <td>Sister Act</td>\n",
       "      <td>Rene, a lounge singer, decides to stay at a Ch...</td>\n",
       "      <td>Comedy</td>\n",
       "      <td>1992</td>\n",
       "      <td>100.0</td>\n",
       "      <td>movie</td>\n",
       "    </tr>\n",
       "  </tbody>\n",
       "</table>\n",
       "</div>"
      ],
      "text/plain": [
       "                                 title  \\\n",
       "0                Sambha - Aajcha Chawa   \n",
       "1  Cars Toon: Mater And The Ghostlight   \n",
       "2                Kanmani Rambo Khatija   \n",
       "3                            Butterfly   \n",
       "4                           Sister Act   \n",
       "\n",
       "                                         description      genre  year  \\\n",
       "0  A young man sets off on a mission to clean up ...     Action  2012   \n",
       "1  Mater is haunted by a mysterious blue light th...  Animation  2006   \n",
       "2  Unlucky since birth, Rambo finds hope when he ...    Romance  2022   \n",
       "3  While trying to rescue her sister's kids from ...   Thriller  2022   \n",
       "4  Rene, a lounge singer, decides to stay at a Ch...     Comedy  1992   \n",
       "\n",
       "   running_time   type  \n",
       "0         141.0  movie  \n",
       "1           7.0  movie  \n",
       "2         157.0  movie  \n",
       "3         136.0  movie  \n",
       "4         100.0  movie  "
      ]
     },
     "execution_count": 72,
     "metadata": {},
     "output_type": "execute_result"
    }
   ],
   "source": [
    "no_dupe.head()"
   ]
  },
  {
   "cell_type": "code",
   "execution_count": 74,
   "id": "1e6d3e09-025c-4126-9017-c40529aa4d13",
   "metadata": {},
   "outputs": [
    {
     "data": {
      "text/plain": [
       "title           4452\n",
       "description     4549\n",
       "genre             31\n",
       "year              78\n",
       "running_time     187\n",
       "type               1\n",
       "dtype: int64"
      ]
     },
     "execution_count": 74,
     "metadata": {},
     "output_type": "execute_result"
    }
   ],
   "source": [
    "no_dupe.nunique()"
   ]
  },
  {
   "cell_type": "markdown",
   "id": "9d53c0b1-2739-40d2-a87a-85bf8b6ebf29",
   "metadata": {},
   "source": [
    "## Data Visualization"
   ]
  },
  {
   "cell_type": "code",
   "execution_count": 78,
   "id": "34242192-7d13-438c-8a29-22e0a7ff25ec",
   "metadata": {},
   "outputs": [],
   "source": [
    "sns.set_style('whitegrid')"
   ]
  },
  {
   "cell_type": "markdown",
   "id": "95e1ffc3-d110-461a-ae22-101172df4503",
   "metadata": {},
   "source": [
    "### What is the most frequent genre of movies released on Disney+ Hostar?"
   ]
  },
  {
   "cell_type": "code",
   "execution_count": 81,
   "id": "2e2608a7-d362-43bd-ba99-952bf4da0178",
   "metadata": {},
   "outputs": [
    {
     "data": {
      "text/plain": [
       "count      4559\n",
       "unique       31\n",
       "top       Drama\n",
       "freq       1538\n",
       "Name: genre, dtype: object"
      ]
     },
     "execution_count": 81,
     "metadata": {},
     "output_type": "execute_result"
    }
   ],
   "source": [
    "no_dupe['genre'].describe()"
   ]
  },
  {
   "cell_type": "code",
   "execution_count": 156,
   "id": "c5f2c702-7698-44a1-9e95-6f901f07113f",
   "metadata": {},
   "outputs": [
    {
     "data": {
      "image/png": "[encoded data removed]",
      "text/plain": [
       "<Figure size 511.111x500 with 1 Axes>"
      ]
     },
     "metadata": {},
     "output_type": "display_data"
    }
   ],
   "source": [
    "sns.catplot(y = 'genre', data = no_dupe, kind = 'count', order = no_dupe['genre'].value_counts().index)\n",
    "plt.xlabel(\"Count\")\n",
    "plt.ylabel(\"Genre\")\n",
    "plt.title(\"Genre column distribution\")\n",
    "plt.show()"
   ]
  },
  {
   "cell_type": "markdown",
   "id": "0c2e8a87-8d05-4da4-8d3e-2c5bace3b7f2",
   "metadata": {},
   "source": [
    "### Which among the dataset has the highest running time?"
   ]
  },
  {
   "cell_type": "code",
   "execution_count": 119,
   "id": "c8e047f2-495e-4658-baaf-b8666b04f62e",
   "metadata": {},
   "outputs": [
    {
     "data": {
      "image/png": "[encoded data removed]",
      "text/plain": [
       "<Figure size 640x480 with 1 Axes>"
      ]
     },
     "metadata": {},
     "output_type": "display_data"
    }
   ],
   "source": [
    "sns.lineplot(x=no_dupe['running_time'].value_counts().index, \n",
    "             y=no_dupe['running_time'].value_counts().values)\n",
    "plt.xlabel(\"Running Time\")\n",
    "plt.ylabel(\"Count\")\n",
    "plt.title(\"Running time distribution\")\n",
    "plt.show()"
   ]
  },
  {
   "cell_type": "markdown",
   "id": "a7cf3f72-8d01-4159-82b6-592be75edb1c",
   "metadata": {},
   "source": [
    "### Which genre has the most running time?"
   ]
  },
  {
   "cell_type": "code",
   "execution_count": 135,
   "id": "cf5dabdd-414e-4733-99ad-63a8caeb8a8e",
   "metadata": {},
   "outputs": [
    {
     "data": {
      "image/png": "[encoded data removed]",
      "text/plain": [
       "<Figure size 1200x600 with 1 Axes>"
      ]
     },
     "metadata": {},
     "output_type": "display_data"
    }
   ],
   "source": [
    "plt.figure(figsize=(12, 6))\n",
    "sns.barplot(x=\"running_time\", y=\"genre\", data=no_dupe)\n",
    "plt.xlabel(\"Average Running Time (minutes)\")\n",
    "plt.ylabel(\"Genre\")\n",
    "plt.title(\"Average Running Time by Genre\")\n",
    "plt.show()"
   ]
  },
  {
   "cell_type": "markdown",
   "id": "c72ea9d3-48f8-4fff-b891-6f7c49e525bb",
   "metadata": {},
   "source": [
    "### What are the latest and oldest movies released?"
   ]
  },
  {
   "cell_type": "markdown",
   "id": "84241b13-1afc-40dd-bd2c-a6c730b77ddd",
   "metadata": {},
   "source": [
    "#### Latest movies"
   ]
  },
  {
   "cell_type": "code",
   "execution_count": 138,
   "id": "9f403eb8-1910-46b3-ab07-85625e9799e2",
   "metadata": {},
   "outputs": [
    {
     "data": {
      "text/html": [
       "<div>\n",
       "<style scoped>\n",
       "    .dataframe tbody tr th:only-of-type {\n",
       "        vertical-align: middle;\n",
       "    }\n",
       "\n",
       "    .dataframe tbody tr th {\n",
       "        vertical-align: top;\n",
       "    }\n",
       "\n",
       "    .dataframe thead th {\n",
       "        text-align: right;\n",
       "    }\n",
       "</style>\n",
       "<table border=\"1\" class=\"dataframe\">\n",
       "  <thead>\n",
       "    <tr style=\"text-align: right;\">\n",
       "      <th></th>\n",
       "      <th>title</th>\n",
       "      <th>description</th>\n",
       "      <th>genre</th>\n",
       "      <th>year</th>\n",
       "      <th>running_time</th>\n",
       "      <th>type</th>\n",
       "    </tr>\n",
       "  </thead>\n",
       "  <tbody>\n",
       "    <tr>\n",
       "      <th>158</th>\n",
       "      <td>Taxi Ride</td>\n",
       "      <td>It just takes a moment to shape one’s perspect...</td>\n",
       "      <td>Drama</td>\n",
       "      <td>2023</td>\n",
       "      <td>15.0</td>\n",
       "      <td>movie</td>\n",
       "    </tr>\n",
       "    <tr>\n",
       "      <th>1226</th>\n",
       "      <td>7 Star Dinosor Entertainment</td>\n",
       "      <td>Keeping problems at bay, two men dress as Dino...</td>\n",
       "      <td>Drama</td>\n",
       "      <td>2023</td>\n",
       "      <td>19.0</td>\n",
       "      <td>movie</td>\n",
       "    </tr>\n",
       "    <tr>\n",
       "      <th>3049</th>\n",
       "      <td>Pill Hai Ke Maanta Nahi</td>\n",
       "      <td>Soon to be a father, a married man’s life turn...</td>\n",
       "      <td>Comedy</td>\n",
       "      <td>2023</td>\n",
       "      <td>32.0</td>\n",
       "      <td>movie</td>\n",
       "    </tr>\n",
       "    <tr>\n",
       "      <th>3146</th>\n",
       "      <td>Pariksha Pe Charcha 2023</td>\n",
       "      <td>Honourable PM Narendra Modi interacts with stu...</td>\n",
       "      <td>Talk Show</td>\n",
       "      <td>2023</td>\n",
       "      <td>124.0</td>\n",
       "      <td>movie</td>\n",
       "    </tr>\n",
       "    <tr>\n",
       "      <th>3369</th>\n",
       "      <td>Willow: Behind the Magic</td>\n",
       "      <td>Go inside the new series from Lucasfilm, and h...</td>\n",
       "      <td>Documentary</td>\n",
       "      <td>2023</td>\n",
       "      <td>32.0</td>\n",
       "      <td>movie</td>\n",
       "    </tr>\n",
       "  </tbody>\n",
       "</table>\n",
       "</div>"
      ],
      "text/plain": [
       "                             title  \\\n",
       "158                      Taxi Ride   \n",
       "1226  7 Star Dinosor Entertainment   \n",
       "3049       Pill Hai Ke Maanta Nahi   \n",
       "3146      Pariksha Pe Charcha 2023   \n",
       "3369      Willow: Behind the Magic   \n",
       "\n",
       "                                            description        genre  year  \\\n",
       "158   It just takes a moment to shape one’s perspect...        Drama  2023   \n",
       "1226  Keeping problems at bay, two men dress as Dino...        Drama  2023   \n",
       "3049  Soon to be a father, a married man’s life turn...       Comedy  2023   \n",
       "3146  Honourable PM Narendra Modi interacts with stu...    Talk Show  2023   \n",
       "3369  Go inside the new series from Lucasfilm, and h...  Documentary  2023   \n",
       "\n",
       "      running_time   type  \n",
       "158           15.0  movie  \n",
       "1226          19.0  movie  \n",
       "3049          32.0  movie  \n",
       "3146         124.0  movie  \n",
       "3369          32.0  movie  "
      ]
     },
     "execution_count": 138,
     "metadata": {},
     "output_type": "execute_result"
    }
   ],
   "source": [
    "no_dupe[no_dupe[\"year\"] == no_dupe[\"year\"].max()]"
   ]
  },
  {
   "cell_type": "markdown",
   "id": "7168d72b-8d6a-40a0-9e08-1e0195ef4242",
   "metadata": {},
   "source": [
    "#### Oldest movies"
   ]
  },
  {
   "cell_type": "code",
   "execution_count": 143,
   "id": "62fb5f64-063e-45d8-b776-6cb77b471077",
   "metadata": {},
   "outputs": [
    {
     "data": {
      "text/html": [
       "<div>\n",
       "<style scoped>\n",
       "    .dataframe tbody tr th:only-of-type {\n",
       "        vertical-align: middle;\n",
       "    }\n",
       "\n",
       "    .dataframe tbody tr th {\n",
       "        vertical-align: top;\n",
       "    }\n",
       "\n",
       "    .dataframe thead th {\n",
       "        text-align: right;\n",
       "    }\n",
       "</style>\n",
       "<table border=\"1\" class=\"dataframe\">\n",
       "  <thead>\n",
       "    <tr style=\"text-align: right;\">\n",
       "      <th></th>\n",
       "      <th>title</th>\n",
       "      <th>description</th>\n",
       "      <th>genre</th>\n",
       "      <th>year</th>\n",
       "      <th>running_time</th>\n",
       "      <th>type</th>\n",
       "    </tr>\n",
       "  </thead>\n",
       "  <tbody>\n",
       "    <tr>\n",
       "      <th>1692</th>\n",
       "      <td>Mickey Mouse Steamboat Willie</td>\n",
       "      <td>Mickey Mouse is a mischievous deckhand on a ri...</td>\n",
       "      <td>Family</td>\n",
       "      <td>1928</td>\n",
       "      <td>7.0</td>\n",
       "      <td>movie</td>\n",
       "    </tr>\n",
       "  </tbody>\n",
       "</table>\n",
       "</div>"
      ],
      "text/plain": [
       "                              title  \\\n",
       "1692  Mickey Mouse Steamboat Willie   \n",
       "\n",
       "                                            description   genre  year  \\\n",
       "1692  Mickey Mouse is a mischievous deckhand on a ri...  Family  1928   \n",
       "\n",
       "      running_time   type  \n",
       "1692           7.0  movie  "
      ]
     },
     "execution_count": 143,
     "metadata": {},
     "output_type": "execute_result"
    }
   ],
   "source": [
    "no_dupe[no_dupe[\"year\"] == no_dupe[\"year\"].min()]"
   ]
  },
  {
   "cell_type": "markdown",
   "id": "3a819c34-6e1f-4fbc-9038-db9d50652366",
   "metadata": {},
   "source": [
    "### Which year has most filmed movies?"
   ]
  },
  {
   "cell_type": "code",
   "execution_count": 154,
   "id": "e0ec1586-9f57-417d-8ff0-4b49ac7a295a",
   "metadata": {},
   "outputs": [
    {
     "data": {
      "image/png": "[encoded data removed]",
      "text/plain": [
       "<Figure size 640x480 with 1 Axes>"
      ]
     },
     "metadata": {},
     "output_type": "display_data"
    }
   ],
   "source": [
    "no_dupe[\"year\"].hist()\n",
    "plt.title(\"Release data column distribution\")\n",
    "plt.xlabel(\"Year\")\n",
    "plt.ylabel(\"Count\")\n",
    "plt.show()"
   ]
  },
  {
   "cell_type": "code",
   "execution_count": 162,
   "id": "d564bbdf-6576-4467-b8f5-60c6d81e257c",
   "metadata": {},
   "outputs": [
    {
     "data": {
      "text/plain": [
       "'\\nQ1. What is the most frequent genre of movies released on Disney+ Hostar?\\n>>  Drama genre is the most frequent genre in our dataset and has appeared more than 33% of the times among other genres.\\n\\nQ2. Which among the dataset has the highest running time?\\n>>  Only less than 1% of the movies have a running time greater than 200.\\n\\nQ3. Which genre has the most running time?\\n>> Concert Film has the highest average running time and we can see that some Fantasy movies can be extremely long.\\n\\nQ4. What are the latest and oldest movies released?\\n>>  Taxi Ride, 7 Star Dinosor Entertainment, Pill Hai Ke Maanta Nahi, Pariksha Pe Charcha 2023, Willow: Behind the Magic are the latest releases \\n    which were released in the year 2023.\\n    Mickey Mouse Steamboat Willie is the oldest movie which was released in the year 1928.\\nQ5. Which year has most filmed movies?\\n>>  Year 2020 has the highest filming rate in our dataset.\\n\\n'"
      ]
     },
     "execution_count": 162,
     "metadata": {},
     "output_type": "execute_result"
    }
   ],
   "source": [
    "# Conclusion\n",
    "\n",
    "'''\n",
    "Q1. What is the most frequent genre of movies released on Disney+ Hostar?\n",
    ">>  Drama genre is the most frequent genre in our dataset and has appeared more than 33% of the times among other genres.\n",
    "\n",
    "Q2. Which among the dataset has the highest running time?\n",
    ">>  Only less than 1% of the movies have a running time greater than 200.\n",
    "\n",
    "Q3. Which genre has the most running time?\n",
    ">> Concert Film has the highest average running time and we can see that some Fantasy movies can be extremely long.\n",
    "\n",
    "Q4. What are the latest and oldest movies released?\n",
    ">>  Taxi Ride, 7 Star Dinosor Entertainment, Pill Hai Ke Maanta Nahi, Pariksha Pe Charcha 2023, Willow: Behind the Magic are the latest releases \n",
    "    which were released in the year 2023.\n",
    "    Mickey Mouse Steamboat Willie is the oldest movie which was released in the year 1928.\n",
    "Q5. Which year has most filmed movies?\n",
    ">>  Year 2020 has the highest filming rate in our dataset.\n",
    "\n",
    "'''"
   ]
  }
 ],
 "metadata": {
  "kernelspec": {
   "display_name": "Python [conda env:base] *",
   "language": "python",
   "name": "conda-base-py"
  },
  "language_info": {
   "codemirror_mode": {
    "name": "ipython",
    "version": 3
   },
   "file_extension": ".py",
   "mimetype": "text/x-python",
   "name": "python",
   "nbconvert_exporter": "python",
   "pygments_lexer": "ipython3",
   "version": "3.12.7"
  }
 },
 "nbformat": 4,
 "nbformat_minor": 5
}
